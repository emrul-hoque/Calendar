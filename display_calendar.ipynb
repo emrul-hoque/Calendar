{
  "nbformat": 4,
  "nbformat_minor": 0,
  "metadata": {
    "colab": {
      "provenance": [],
      "authorship_tag": "ABX9TyPSckN06ubDwI2CcTW8n1Ug",
      "include_colab_link": true
    },
    "kernelspec": {
      "name": "python3",
      "display_name": "Python 3"
    },
    "language_info": {
      "name": "python"
    }
  },
  "cells": [
    {
      "cell_type": "markdown",
      "metadata": {
        "id": "view-in-github",
        "colab_type": "text"
      },
      "source": [
        "<a href=\"https://colab.research.google.com/github/emrul-hoque/Calendar/blob/master/display_calendar.ipynb\" target=\"_parent\"><img src=\"https://colab.research.google.com/assets/colab-badge.svg\" alt=\"Open In Colab\"/></a>"
      ]
    },
    {
      "cell_type": "code",
      "execution_count": 1,
      "metadata": {
        "colab": {
          "base_uri": "https://localhost:8080/"
        },
        "id": "wWKGsh1U6MQU",
        "outputId": "24f6f3b6-c891-4091-96a3-2c088addf8f3"
      },
      "outputs": [
        {
          "output_type": "stream",
          "name": "stdout",
          "text": [
            "\n",
            " Enter the year for the calendar:\t2023\n",
            "\n",
            " Enter the month for the calendar:\t11\n",
            "\n",
            "\n",
            "    November 2023\n",
            "Mo Tu We Th Fr Sa Su\n",
            "       1  2  3  4  5\n",
            " 6  7  8  9 10 11 12\n",
            "13 14 15 16 17 18 19\n",
            "20 21 22 23 24 25 26\n",
            "27 28 29 30\n",
            "\n"
          ]
        }
      ],
      "source": [
        "import calendar\n",
        "\n",
        "y = int(input(\"\\n Enter the year for the calendar:\\t\"))\n",
        "\n",
        "m = int(input(\"\\n Enter the month for the calendar:\\t\"))\n",
        "\n",
        "print(\"\\n\\n\", calendar.month(y, m))"
      ]
    }
  ]
}